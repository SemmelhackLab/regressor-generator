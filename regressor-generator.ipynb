{
 "cells": [
  {
   "cell_type": "code",
   "execution_count": null,
   "metadata": {},
   "outputs": [],
   "source": [
    "def gen_reg(length, tpoints, tau):\n",
    "    '''\n",
    "    PARAMETERS (units in frames)\n",
    "    length: the length of the imaging trial (e.g. 270 frames)\n",
    "    tpoints: the range where to build the regressor (e.g. [100, 115])\n",
    "    tau: the decay constant (15 frames = 1s decay constant of exp function)\n",
    "    '''\n",
    "    \n",
    "    stim = np.zeros(length)\n",
    "    stim[tpoints] = 1\n",
    "    exp = []\n",
    "\n",
    "    kernel = np.ones(tau)\n",
    "\n",
    "    # Generate exponential function\n",
    "    for counter, val in enumerate(kernel):\n",
    "        exp.append(((1 / float(tau)) * math.exp((-counter / float(tau))))*val)\n",
    "\n",
    "    # Convolve the step function with exponential function\n",
    "    onset = np.convolve(stim,exp)\n",
    "    onset2 = [float(i) for i in onset]\n",
    "    onset2 = onset2[0:-tau+1]\n",
    "\n",
    "    return onset2"
   ]
  }
 ],
 "metadata": {
  "kernelspec": {
   "display_name": "Python 3",
   "language": "python",
   "name": "python3"
  },
  "language_info": {
   "codemirror_mode": {
    "name": "ipython",
    "version": 3
   },
   "file_extension": ".py",
   "mimetype": "text/x-python",
   "name": "python",
   "nbconvert_exporter": "python",
   "pygments_lexer": "ipython3",
   "version": "3.6.10"
  }
 },
 "nbformat": 4,
 "nbformat_minor": 4
}
